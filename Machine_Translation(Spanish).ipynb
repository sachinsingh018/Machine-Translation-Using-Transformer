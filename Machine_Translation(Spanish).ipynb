{
  "nbformat": 4,
  "nbformat_minor": 0,
  "metadata": {
    "colab": {
      "provenance": []
    },
    "kernelspec": {
      "name": "python3",
      "display_name": "Python 3"
    },
    "language_info": {
      "name": "python"
    },
    "accelerator": "GPU",
    "gpuClass": "standard"
  },
  "cells": [
    {
      "cell_type": "code",
      "execution_count": 2,
      "metadata": {
        "id": "MZ9P_zMalHZV"
      },
      "outputs": [],
      "source": [
        "import pathlib\n",
        "import random\n",
        "import string\n",
        "import re\n",
        "import numpy as np\n",
        "import tensorflow as tf\n",
        "from tensorflow import keras\n",
        "from tensorflow.keras import layers\n",
        "from tensorflow.keras.layers import TextVectorization"
      ]
    },
    {
      "cell_type": "code",
      "source": [
        "text_file = keras.utils.get_file(\n",
        "    fname=\"spa-eng.zip\",\n",
        "    origin=\"http://storage.googleapis.com/download.tensorflow.org/data/spa-eng.zip\",\n",
        "    extract=True,\n",
        ")\n",
        "text_file = pathlib.Path(text_file).parent / \"spa-eng\" / \"spa.txt\""
      ],
      "metadata": {
        "colab": {
          "base_uri": "https://localhost:8080/"
        },
        "id": "Tw28p3eilK0o",
        "outputId": "0d19fab0-4183-427e-fda9-f109a593898a"
      },
      "execution_count": 3,
      "outputs": [
        {
          "output_type": "stream",
          "name": "stdout",
          "text": [
            "Downloading data from http://storage.googleapis.com/download.tensorflow.org/data/spa-eng.zip\n",
            "2638744/2638744 [==============================] - 0s 0us/step\n"
          ]
        }
      ]
    },
    {
      "cell_type": "code",
      "source": [
        "with open(text_file) as f:\n",
        "    lines = f.read().split(\"\\n\")[:-1]\n",
        "text_pairs = []\n",
        "for line in lines:\n",
        "    eng, spa = line.split(\"\\t\")\n",
        "    spa = \"[start] \" + spa + \" [end]\"\n",
        "    text_pairs.append((eng, spa))"
      ],
      "metadata": {
        "id": "DcCf8TEDlL-6"
      },
      "execution_count": 4,
      "outputs": []
    },
    {
      "cell_type": "code",
      "source": [
        "for _ in range(5):\n",
        "    print(random.choice(text_pairs))"
      ],
      "metadata": {
        "colab": {
          "base_uri": "https://localhost:8080/"
        },
        "id": "HmEbEMD9lM-u",
        "outputId": "512e7b1a-dc26-450c-f7a0-902f4cf1a675"
      },
      "execution_count": 5,
      "outputs": [
        {
          "output_type": "stream",
          "name": "stdout",
          "text": [
            "('Tom was arrested Monday.', '[start] Tom fue arrestado el lunes. [end]')\n",
            "('Unfortunately, I already have plans for that day.', '[start] Desafortunadamente, ya tengo mi día planeado. [end]')\n",
            "('Tom is obviously in love with Mary.', '[start] Tom obviamente está enamorado de María. [end]')\n",
            "('The room is hot.', '[start] La habitación está calurosa. [end]')\n",
            "(\"If you don't go skiing, I won't, either.\", '[start] Si tú no vas a esquiar, yo tampoco iré. [end]')\n"
          ]
        }
      ]
    },
    {
      "cell_type": "code",
      "source": [
        "random.shuffle(text_pairs)\n",
        "num_val_samples = int(0.15 * len(text_pairs))\n",
        "num_train_samples = len(text_pairs) - 2 * num_val_samples\n",
        "train_pairs = text_pairs[:num_train_samples]\n",
        "val_pairs = text_pairs[num_train_samples : num_train_samples + num_val_samples]\n",
        "test_pairs = text_pairs[num_train_samples + num_val_samples :]\n",
        "\n",
        "print(f\"{len(text_pairs)} total pairs\")\n",
        "print(f\"{len(train_pairs)} training pairs\")\n",
        "print(f\"{len(val_pairs)} validation pairs\")\n",
        "print(f\"{len(test_pairs)} test pairs\")"
      ],
      "metadata": {
        "colab": {
          "base_uri": "https://localhost:8080/"
        },
        "id": "PXma9-8KlNVd",
        "outputId": "6a4120bd-b758-4285-d7ed-a1a137e491d7"
      },
      "execution_count": 6,
      "outputs": [
        {
          "output_type": "stream",
          "name": "stdout",
          "text": [
            "118964 total pairs\n",
            "83276 training pairs\n",
            "17844 validation pairs\n",
            "17844 test pairs\n"
          ]
        }
      ]
    },
    {
      "cell_type": "code",
      "source": [
        "strip_chars = string.punctuation + \"¿\"\n",
        "strip_chars = strip_chars.replace(\"[\", \"\")\n",
        "strip_chars = strip_chars.replace(\"]\", \"\")\n",
        "\n",
        "vocab_size = 15000\n",
        "sequence_length = 20\n",
        "batch_size = 64\n",
        "\n",
        "\n",
        "def custom_standardization(input_string):\n",
        "    lowercase = tf.strings.lower(input_string)\n",
        "    return tf.strings.regex_replace(lowercase, \"[%s]\" % re.escape(strip_chars), \"\")\n",
        "\n",
        "\n",
        "eng_vectorization = TextVectorization(\n",
        "    max_tokens=vocab_size, output_mode=\"int\", output_sequence_length=sequence_length,\n",
        ")\n",
        "spa_vectorization = TextVectorization(\n",
        "    max_tokens=vocab_size,\n",
        "    output_mode=\"int\",\n",
        "    output_sequence_length=sequence_length + 1,\n",
        "    standardize=custom_standardization,\n",
        ")\n",
        "train_eng_texts = [pair[0] for pair in train_pairs]\n",
        "train_spa_texts = [pair[1] for pair in train_pairs]\n",
        "eng_vectorization.adapt(train_eng_texts)\n",
        "spa_vectorization.adapt(train_spa_texts)"
      ],
      "metadata": {
        "id": "XNMu1MBylNZu"
      },
      "execution_count": 7,
      "outputs": []
    },
    {
      "cell_type": "code",
      "source": [
        "def format_dataset(eng, spa):\n",
        "    eng = eng_vectorization(eng)\n",
        "    spa = spa_vectorization(spa)\n",
        "    return ({\"encoder_inputs\": eng, \"decoder_inputs\": spa[:, :-1],}, spa[:, 1:])\n",
        "\n",
        "\n",
        "def make_dataset(pairs):\n",
        "    eng_texts, spa_texts = zip(*pairs)\n",
        "    eng_texts = list(eng_texts)\n",
        "    spa_texts = list(spa_texts)\n",
        "    dataset = tf.data.Dataset.from_tensor_slices((eng_texts, spa_texts))\n",
        "    dataset = dataset.batch(batch_size)\n",
        "    dataset = dataset.map(format_dataset)\n",
        "    return dataset.shuffle(2048).prefetch(16).cache()\n",
        "\n",
        "\n",
        "train_ds = make_dataset(train_pairs)\n",
        "val_ds = make_dataset(val_pairs)"
      ],
      "metadata": {
        "id": "-13mycdTlNfR"
      },
      "execution_count": 8,
      "outputs": []
    },
    {
      "cell_type": "code",
      "source": [
        "for inputs, targets in train_ds.take(1):\n",
        "    print(f'inputs[\"encoder_inputs\"].shape: {inputs[\"encoder_inputs\"].shape}')\n",
        "    print(f'inputs[\"decoder_inputs\"].shape: {inputs[\"decoder_inputs\"].shape}')\n",
        "    print(f\"targets.shape: {targets.shape}\")"
      ],
      "metadata": {
        "colab": {
          "base_uri": "https://localhost:8080/"
        },
        "id": "l_CVP53XlNj5",
        "outputId": "b4fa49fe-49dd-43b2-9cff-ddb9f85263ed"
      },
      "execution_count": 9,
      "outputs": [
        {
          "output_type": "stream",
          "name": "stdout",
          "text": [
            "inputs[\"encoder_inputs\"].shape: (64, 20)\n",
            "inputs[\"decoder_inputs\"].shape: (64, 20)\n",
            "targets.shape: (64, 20)\n"
          ]
        }
      ]
    },
    {
      "cell_type": "code",
      "source": [
        "class TransformerEncoder(layers.Layer):\n",
        "    def __init__(self, embed_dim, dense_dim, num_heads, **kwargs):\n",
        "        super().__init__(**kwargs)\n",
        "        self.embed_dim = embed_dim\n",
        "        self.dense_dim = dense_dim\n",
        "        self.num_heads = num_heads\n",
        "        self.attention = layers.MultiHeadAttention(\n",
        "            num_heads=num_heads, key_dim=embed_dim\n",
        "        )\n",
        "        self.dense_proj = keras.Sequential(\n",
        "            [layers.Dense(dense_dim, activation=\"relu\"), layers.Dense(embed_dim),]\n",
        "        )\n",
        "        self.layernorm_1 = layers.LayerNormalization()\n",
        "        self.layernorm_2 = layers.LayerNormalization()\n",
        "        self.supports_masking = True\n",
        "\n",
        "    def call(self, inputs, mask=None):\n",
        "        if mask is not None:\n",
        "            padding_mask = tf.cast(mask[:, tf.newaxis, tf.newaxis, :], dtype=\"int32\")\n",
        "        attention_output = self.attention(\n",
        "            query=inputs, value=inputs, key=inputs, attention_mask=padding_mask\n",
        "        )\n",
        "        proj_input = self.layernorm_1(inputs + attention_output)\n",
        "        proj_output = self.dense_proj(proj_input)\n",
        "        return self.layernorm_2(proj_input + proj_output)\n",
        "\n",
        "\n",
        "class PositionalEmbedding(layers.Layer):\n",
        "    def __init__(self, sequence_length, vocab_size, embed_dim, **kwargs):\n",
        "        super().__init__(**kwargs)\n",
        "        self.token_embeddings = layers.Embedding(\n",
        "            input_dim=vocab_size, output_dim=embed_dim\n",
        "        )\n",
        "        self.position_embeddings = layers.Embedding(\n",
        "            input_dim=sequence_length, output_dim=embed_dim\n",
        "        )\n",
        "        self.sequence_length = sequence_length\n",
        "        self.vocab_size = vocab_size\n",
        "        self.embed_dim = embed_dim\n",
        "\n",
        "    def call(self, inputs):\n",
        "        length = tf.shape(inputs)[-1]\n",
        "        positions = tf.range(start=0, limit=length, delta=1)\n",
        "        embedded_tokens = self.token_embeddings(inputs)\n",
        "        embedded_positions = self.position_embeddings(positions)\n",
        "        return embedded_tokens + embedded_positions\n",
        "\n",
        "    def compute_mask(self, inputs, mask=None):\n",
        "        return tf.math.not_equal(inputs, 0)\n",
        "\n",
        "\n",
        "class TransformerDecoder(layers.Layer):\n",
        "    def __init__(self, embed_dim, latent_dim, num_heads, **kwargs):\n",
        "        super().__init__(**kwargs)\n",
        "        self.embed_dim = embed_dim\n",
        "        self.latent_dim = latent_dim\n",
        "        self.num_heads = num_heads\n",
        "        self.attention_1 = layers.MultiHeadAttention(\n",
        "            num_heads=num_heads, key_dim=embed_dim\n",
        "        )\n",
        "        self.attention_2 = layers.MultiHeadAttention(\n",
        "            num_heads=num_heads, key_dim=embed_dim\n",
        "        )\n",
        "        self.dense_proj = keras.Sequential(\n",
        "            [layers.Dense(latent_dim, activation=\"relu\"), layers.Dense(embed_dim),]\n",
        "        )\n",
        "        self.layernorm_1 = layers.LayerNormalization()\n",
        "        self.layernorm_2 = layers.LayerNormalization()\n",
        "        self.layernorm_3 = layers.LayerNormalization()\n",
        "        self.supports_masking = True\n",
        "\n",
        "    def call(self, inputs, encoder_outputs, mask=None):\n",
        "        causal_mask = self.get_causal_attention_mask(inputs)\n",
        "        if mask is not None:\n",
        "            padding_mask = tf.cast(mask[:, tf.newaxis, :], dtype=\"int32\")\n",
        "            padding_mask = tf.minimum(padding_mask, causal_mask)\n",
        "\n",
        "        attention_output_1 = self.attention_1(\n",
        "            query=inputs, value=inputs, key=inputs, attention_mask=causal_mask\n",
        "        )\n",
        "        out_1 = self.layernorm_1(inputs + attention_output_1)\n",
        "\n",
        "        attention_output_2 = self.attention_2(\n",
        "            query=out_1,\n",
        "            value=encoder_outputs,\n",
        "            key=encoder_outputs,\n",
        "            attention_mask=padding_mask,\n",
        "        )\n",
        "        out_2 = self.layernorm_2(out_1 + attention_output_2)\n",
        "\n",
        "        proj_output = self.dense_proj(out_2)\n",
        "        return self.layernorm_3(out_2 + proj_output)\n",
        "\n",
        "    def get_causal_attention_mask(self, inputs):\n",
        "        input_shape = tf.shape(inputs)\n",
        "        batch_size, sequence_length = input_shape[0], input_shape[1]\n",
        "        i = tf.range(sequence_length)[:, tf.newaxis]\n",
        "        j = tf.range(sequence_length)\n",
        "        mask = tf.cast(i >= j, dtype=\"int32\")\n",
        "        mask = tf.reshape(mask, (1, input_shape[1], input_shape[1]))\n",
        "        mult = tf.concat(\n",
        "            [tf.expand_dims(batch_size, -1), tf.constant([1, 1], dtype=tf.int32)],\n",
        "            axis=0,\n",
        "        )\n",
        "        return tf.tile(mask, mult)"
      ],
      "metadata": {
        "id": "BZdnXOQjlNoo"
      },
      "execution_count": 10,
      "outputs": []
    },
    {
      "cell_type": "code",
      "source": [
        "embed_dim = 256\n",
        "latent_dim = 2048\n",
        "num_heads = 8\n",
        "\n",
        "encoder_inputs = keras.Input(shape=(None,), dtype=\"int64\", name=\"encoder_inputs\")\n",
        "x = PositionalEmbedding(sequence_length, vocab_size, embed_dim)(encoder_inputs)\n",
        "encoder_outputs = TransformerEncoder(embed_dim, latent_dim, num_heads)(x)\n",
        "encoder = keras.Model(encoder_inputs, encoder_outputs)\n",
        "\n",
        "decoder_inputs = keras.Input(shape=(None,), dtype=\"int64\", name=\"decoder_inputs\")\n",
        "encoded_seq_inputs = keras.Input(shape=(None, embed_dim), name=\"decoder_state_inputs\")\n",
        "x = PositionalEmbedding(sequence_length, vocab_size, embed_dim)(decoder_inputs)\n",
        "x = TransformerDecoder(embed_dim, latent_dim, num_heads)(x, encoded_seq_inputs)\n",
        "x = layers.Dropout(0.5)(x)\n",
        "decoder_outputs = layers.Dense(vocab_size, activation=\"softmax\")(x)\n",
        "decoder = keras.Model([decoder_inputs, encoded_seq_inputs], decoder_outputs)\n",
        "\n",
        "decoder_outputs = decoder([decoder_inputs, encoder_outputs])\n",
        "transformer = keras.Model(\n",
        "    [encoder_inputs, decoder_inputs], decoder_outputs, name=\"transformer\"\n",
        ")"
      ],
      "metadata": {
        "id": "N8v3sGsVlNtt"
      },
      "execution_count": 11,
      "outputs": []
    },
    {
      "cell_type": "code",
      "source": [
        "\n",
        "epochs = 30  # This should be at least 30 for convergence\n",
        "\n",
        "transformer.summary()\n",
        "transformer.compile(\n",
        "    \"rmsprop\", loss=\"sparse_categorical_crossentropy\", metrics=[\"accuracy\"]\n",
        ")\n",
        "transformer.fit(train_ds, epochs=epochs, validation_data=val_ds)"
      ],
      "metadata": {
        "colab": {
          "base_uri": "https://localhost:8080/"
        },
        "id": "aik9b1pblNyc",
        "outputId": "3387c88d-c31d-4979-bded-9692630d9bc5"
      },
      "execution_count": 12,
      "outputs": [
        {
          "output_type": "stream",
          "name": "stdout",
          "text": [
            "Model: \"transformer\"\n",
            "__________________________________________________________________________________________________\n",
            " Layer (type)                   Output Shape         Param #     Connected to                     \n",
            "==================================================================================================\n",
            " encoder_inputs (InputLayer)    [(None, None)]       0           []                               \n",
            "                                                                                                  \n",
            " positional_embedding (Position  (None, None, 256)   3845120     ['encoder_inputs[0][0]']         \n",
            " alEmbedding)                                                                                     \n",
            "                                                                                                  \n",
            " decoder_inputs (InputLayer)    [(None, None)]       0           []                               \n",
            "                                                                                                  \n",
            " transformer_encoder (Transform  (None, None, 256)   3155456     ['positional_embedding[0][0]']   \n",
            " erEncoder)                                                                                       \n",
            "                                                                                                  \n",
            " model_1 (Functional)           (None, None, 15000)  12959640    ['decoder_inputs[0][0]',         \n",
            "                                                                  'transformer_encoder[0][0]']    \n",
            "                                                                                                  \n",
            "==================================================================================================\n",
            "Total params: 19,960,216\n",
            "Trainable params: 19,960,216\n",
            "Non-trainable params: 0\n",
            "__________________________________________________________________________________________________\n",
            "Epoch 1/30\n",
            "1302/1302 [==============================] - 102s 72ms/step - loss: 1.6402 - accuracy: 0.4317 - val_loss: 1.3019 - val_accuracy: 0.5179\n",
            "Epoch 2/30\n",
            "1302/1302 [==============================] - 94s 72ms/step - loss: 1.3124 - accuracy: 0.5435 - val_loss: 1.1432 - val_accuracy: 0.5748\n",
            "Epoch 3/30\n",
            "1302/1302 [==============================] - 94s 72ms/step - loss: 1.1617 - accuracy: 0.5907 - val_loss: 1.0787 - val_accuracy: 0.5980\n",
            "Epoch 4/30\n",
            "1302/1302 [==============================] - 94s 72ms/step - loss: 1.0774 - accuracy: 0.6217 - val_loss: 1.0288 - val_accuracy: 0.6267\n",
            "Epoch 5/30\n",
            "1302/1302 [==============================] - 94s 72ms/step - loss: 1.0315 - accuracy: 0.6423 - val_loss: 0.9994 - val_accuracy: 0.6409\n",
            "Epoch 6/30\n",
            "1302/1302 [==============================] - 94s 72ms/step - loss: 1.0017 - accuracy: 0.6573 - val_loss: 0.9982 - val_accuracy: 0.6416\n",
            "Epoch 7/30\n",
            "1302/1302 [==============================] - 93s 72ms/step - loss: 0.9807 - accuracy: 0.6690 - val_loss: 0.9918 - val_accuracy: 0.6481\n",
            "Epoch 8/30\n",
            "1302/1302 [==============================] - 93s 72ms/step - loss: 0.9642 - accuracy: 0.6791 - val_loss: 0.9892 - val_accuracy: 0.6511\n",
            "Epoch 9/30\n",
            "1302/1302 [==============================] - 94s 72ms/step - loss: 0.9486 - accuracy: 0.6876 - val_loss: 0.9856 - val_accuracy: 0.6549\n",
            "Epoch 10/30\n",
            "1302/1302 [==============================] - 93s 71ms/step - loss: 0.9358 - accuracy: 0.6948 - val_loss: 0.9856 - val_accuracy: 0.6572\n",
            "Epoch 11/30\n",
            "1302/1302 [==============================] - 93s 72ms/step - loss: 0.9225 - accuracy: 0.7011 - val_loss: 0.9888 - val_accuracy: 0.6591\n",
            "Epoch 12/30\n",
            "1302/1302 [==============================] - 94s 72ms/step - loss: 0.9110 - accuracy: 0.7073 - val_loss: 0.9949 - val_accuracy: 0.6540\n",
            "Epoch 13/30\n",
            "1302/1302 [==============================] - 93s 71ms/step - loss: 0.9000 - accuracy: 0.7122 - val_loss: 0.9942 - val_accuracy: 0.6590\n",
            "Epoch 14/30\n",
            "1302/1302 [==============================] - 93s 72ms/step - loss: 0.8887 - accuracy: 0.7167 - val_loss: 0.9893 - val_accuracy: 0.6617\n",
            "Epoch 15/30\n",
            "1302/1302 [==============================] - 93s 72ms/step - loss: 0.8789 - accuracy: 0.7215 - val_loss: 0.9941 - val_accuracy: 0.6618\n",
            "Epoch 16/30\n",
            "1302/1302 [==============================] - 93s 71ms/step - loss: 0.8686 - accuracy: 0.7259 - val_loss: 0.9912 - val_accuracy: 0.6658\n",
            "Epoch 17/30\n",
            "1302/1302 [==============================] - 93s 72ms/step - loss: 0.8596 - accuracy: 0.7291 - val_loss: 0.9975 - val_accuracy: 0.6586\n",
            "Epoch 18/30\n",
            "1302/1302 [==============================] - 93s 72ms/step - loss: 0.8507 - accuracy: 0.7325 - val_loss: 1.0025 - val_accuracy: 0.6612\n",
            "Epoch 19/30\n",
            "1302/1302 [==============================] - 93s 72ms/step - loss: 0.8418 - accuracy: 0.7359 - val_loss: 1.0004 - val_accuracy: 0.6622\n",
            "Epoch 20/30\n",
            "1302/1302 [==============================] - 93s 72ms/step - loss: 0.8334 - accuracy: 0.7395 - val_loss: 1.0144 - val_accuracy: 0.6622\n",
            "Epoch 21/30\n",
            "1302/1302 [==============================] - 94s 72ms/step - loss: 0.8258 - accuracy: 0.7422 - val_loss: 1.0136 - val_accuracy: 0.6632\n",
            "Epoch 22/30\n",
            "1302/1302 [==============================] - 93s 72ms/step - loss: 0.8191 - accuracy: 0.7444 - val_loss: 1.0253 - val_accuracy: 0.6617\n",
            "Epoch 23/30\n",
            "1302/1302 [==============================] - 93s 72ms/step - loss: 0.8108 - accuracy: 0.7478 - val_loss: 1.0226 - val_accuracy: 0.6646\n",
            "Epoch 24/30\n",
            "1302/1302 [==============================] - 93s 72ms/step - loss: 0.8037 - accuracy: 0.7502 - val_loss: 1.0280 - val_accuracy: 0.6615\n",
            "Epoch 25/30\n",
            "1302/1302 [==============================] - 94s 72ms/step - loss: 0.7976 - accuracy: 0.7525 - val_loss: 1.0302 - val_accuracy: 0.6607\n",
            "Epoch 26/30\n",
            "1302/1302 [==============================] - 93s 72ms/step - loss: 0.7899 - accuracy: 0.7552 - val_loss: 1.0298 - val_accuracy: 0.6637\n",
            "Epoch 27/30\n",
            "1302/1302 [==============================] - 94s 72ms/step - loss: 0.7842 - accuracy: 0.7571 - val_loss: 1.0405 - val_accuracy: 0.6604\n",
            "Epoch 28/30\n",
            "1302/1302 [==============================] - 94s 72ms/step - loss: 0.7780 - accuracy: 0.7591 - val_loss: 1.0460 - val_accuracy: 0.6644\n",
            "Epoch 29/30\n",
            "1302/1302 [==============================] - 93s 72ms/step - loss: 0.7722 - accuracy: 0.7615 - val_loss: 1.0445 - val_accuracy: 0.6612\n",
            "Epoch 30/30\n",
            "1302/1302 [==============================] - 93s 72ms/step - loss: 0.7665 - accuracy: 0.7635 - val_loss: 1.0597 - val_accuracy: 0.6593\n"
          ]
        },
        {
          "output_type": "execute_result",
          "data": {
            "text/plain": [
              "<keras.callbacks.History at 0x7fa0c05d45b0>"
            ]
          },
          "metadata": {},
          "execution_count": 12
        }
      ]
    },
    {
      "cell_type": "code",
      "source": [],
      "metadata": {
        "id": "LMSKDQNnlXLf"
      },
      "execution_count": null,
      "outputs": []
    },
    {
      "cell_type": "code",
      "source": [
        "spa_vocab = spa_vectorization.get_vocabulary()\n",
        "spa_index_lookup = dict(zip(range(len(spa_vocab)), spa_vocab))\n",
        "max_decoded_sentence_length = 20\n",
        "\n",
        "\n",
        "def decode_sequence(input_sentence):\n",
        "    tokenized_input_sentence = eng_vectorization([input_sentence])\n",
        "    decoded_sentence = \"[start]\"\n",
        "    for i in range(max_decoded_sentence_length):\n",
        "        tokenized_target_sentence = spa_vectorization([decoded_sentence])[:, :-1]\n",
        "        predictions = transformer([tokenized_input_sentence, tokenized_target_sentence])\n",
        "\n",
        "        sampled_token_index = np.argmax(predictions[0, i, :])\n",
        "        sampled_token = spa_index_lookup[sampled_token_index]\n",
        "        decoded_sentence += \" \" + sampled_token\n",
        "\n",
        "        if sampled_token == \"[end]\":\n",
        "            break\n",
        "    return decoded_sentence\n",
        "\n",
        "\n",
        "test_eng_texts = [pair[0] for pair in test_pairs]\n",
        "for _ in range(30):\n",
        "    input_sentence = random.choice(test_eng_texts)\n",
        "    translated = decode_sequence(input_sentence)\n",
        "    print(input_sentence)\n",
        "    print(translated)\n",
        "    print('\\n')"
      ],
      "metadata": {
        "id": "0V2BS5nmlXP2",
        "colab": {
          "base_uri": "https://localhost:8080/"
        },
        "outputId": "708809a3-f3d1-41c4-e932-30d4704f97dd"
      },
      "execution_count": 13,
      "outputs": [
        {
          "output_type": "stream",
          "name": "stdout",
          "text": [
            "Whose is this?\n",
            "[start] de quién es este [end]\n",
            "\n",
            "\n",
            "Is Spanish spoken in Mexico?\n",
            "[start] se habla español en en viajar [end]\n",
            "\n",
            "\n",
            "Tom cares.\n",
            "[start] tomás es de [end]\n",
            "\n",
            "\n",
            "You know this.\n",
            "[start] tú sabes esto [end]\n",
            "\n",
            "\n",
            "I'll take a glass of champagne.\n",
            "[start] me haré un vaso de [UNK] [end]\n",
            "\n",
            "\n",
            "I haven't told him anything.\n",
            "[start] no le he dicho nada [end]\n",
            "\n",
            "\n",
            "The knight swore an oath of allegiance to the king.\n",
            "[start] la [UNK] una caso de [UNK] al niño de de de de de de de un caso [end]\n",
            "\n",
            "\n",
            "Do you believe in God?\n",
            "[start] crees en dios [end]\n",
            "\n",
            "\n",
            "What is your mother tongue?\n",
            "[start] cuál es tu lengua [UNK] [end]\n",
            "\n",
            "\n",
            "Tom had nothing to hide.\n",
            "[start] tomás no tenía nada que recordar [end]\n",
            "\n",
            "\n",
            "I put it in the drawer.\n",
            "[start] lo está abierta en el reloj [end]\n",
            "\n",
            "\n",
            "The man is chasing the woman.\n",
            "[start] el hombre que está [UNK] a la mujer [end]\n",
            "\n",
            "\n",
            "She stayed there for a moment.\n",
            "[start] ella se quedó allí por un momento [end]\n",
            "\n",
            "\n",
            "Tom died in the evening of the day he and Mary got married.\n",
            "[start] tom murió en la tarde del día y mary se casó [end]\n",
            "\n",
            "\n",
            "Mary has hair down to her waist.\n",
            "[start] mary tiene el pelo hasta la [UNK] [end]\n",
            "\n",
            "\n",
            "They're our clients.\n",
            "[start] son nuestro profesor de a los al de nuestro [end]\n",
            "\n",
            "\n",
            "They're running late.\n",
            "[start] se están haciendo tarde [end]\n",
            "\n",
            "\n",
            "Guess where I've been.\n",
            "[start] [UNK] de ahí donde he estado [end]\n",
            "\n",
            "\n",
            "He likes singing and dancing.\n",
            "[start] le gusta cantar y bailar [end]\n",
            "\n",
            "\n",
            "Tom has traveled all over Europe.\n",
            "[start] tom ha hecho cuenta toda navidad [end]\n",
            "\n",
            "\n",
            "How many pens do you have?\n",
            "[start] cuántos [UNK] quieres [end]\n",
            "\n",
            "\n",
            "Tom should be here any minute now.\n",
            "[start] tom debería estar aquí por ahora [end]\n",
            "\n",
            "\n",
            "I'm tired of Boston.\n",
            "[start] estoy cansado de boston [end]\n",
            "\n",
            "\n",
            "She got no answer from him.\n",
            "[start] ella no hizo responder de él [end]\n",
            "\n",
            "\n",
            "I know what I'm saying.\n",
            "[start] sé lo que estoy diciendo [end]\n",
            "\n",
            "\n",
            "Do you like oranges?\n",
            "[start] te gustan las que las que las que las que las que las que las gustan la gustan las que\n",
            "\n",
            "\n",
            "Tom wasn't wearing a wedding ring, but Mary noticed a white circle on his ring finger.\n",
            "[start] tom no estaba puesto un me puso a mary de puesto un me [UNK] la a la a la a\n",
            "\n",
            "\n",
            "Tom wanted to marry Mary.\n",
            "[start] tom quería casarse con mary [end]\n",
            "\n",
            "\n",
            "There are almost no gunfights in Japan.\n",
            "[start] no hay casi nada en japón [end]\n",
            "\n",
            "\n",
            "Please air the room.\n",
            "[start] por favor el pieza de la habitación [end]\n",
            "\n",
            "\n"
          ]
        }
      ]
    },
    {
      "cell_type": "code",
      "source": [],
      "metadata": {
        "id": "JTDZ5c3alXUL"
      },
      "execution_count": null,
      "outputs": []
    },
    {
      "cell_type": "code",
      "source": [],
      "metadata": {
        "id": "FAAo_iahlXY1"
      },
      "execution_count": null,
      "outputs": []
    },
    {
      "cell_type": "code",
      "source": [],
      "metadata": {
        "id": "VlQotdIclXdi"
      },
      "execution_count": null,
      "outputs": []
    }
  ]
}