{
  "nbformat": 4,
  "nbformat_minor": 0,
  "metadata": {
    "colab": {
      "provenance": []
    },
    "kernelspec": {
      "name": "python3",
      "display_name": "Python 3"
    },
    "language_info": {
      "name": "python"
    },
    "accelerator": "GPU",
    "gpuClass": "standard"
  },
  "cells": [
    {
      "cell_type": "code",
      "execution_count": 96,
      "metadata": {
        "id": "nanNH0tUWQ-v"
      },
      "outputs": [],
      "source": [
        "import pathlib\n",
        "import random\n",
        "import string\n",
        "import re\n",
        "import numpy as np\n",
        "import tensorflow as tf\n",
        "from tensorflow import keras\n",
        "from tensorflow.keras import layers\n",
        "from tensorflow.keras.layers import TextVectorization"
      ]
    },
    {
      "cell_type": "code",
      "source": [
        "text_file = keras.utils.get_file(\n",
        "    fname=\"spa-eng.zip\",\n",
        "    origin=\"http://storage.googleapis.com/download.tensorflow.org/data/spa-eng.zip\",\n",
        "    extract=True,\n",
        ")\n",
        "text_file = pathlib.Path(text_file).parent / \"spa-eng\" / \"spa.txt\""
      ],
      "metadata": {
        "id": "vo4k7DMVi8R2"
      },
      "execution_count": null,
      "outputs": []
    },
    {
      "cell_type": "code",
      "source": [
        "text_file=\"/content/fra-eng/fra.txt\""
      ],
      "metadata": {
        "id": "bfw-5FIQjDcj"
      },
      "execution_count": 97,
      "outputs": []
    },
    {
      "cell_type": "code",
      "source": [
        "with open(text_file) as f:\n",
        "    lines = f.read().split(\"\\n\")[:-1]\n",
        "text_pairs = []\n",
        "for line in lines:\n",
        "    eng, spa, extra = line.split(\"\\t\")\n",
        "    spa = \"[start] \" + spa + \" [end]\"\n",
        "    text_pairs.append((eng, spa))"
      ],
      "metadata": {
        "id": "jQCmxi-Hi8Yn"
      },
      "execution_count": 98,
      "outputs": []
    },
    {
      "cell_type": "code",
      "source": [
        "for _ in range(5):\n",
        "    print(random.choice(text_pairs))"
      ],
      "metadata": {
        "colab": {
          "base_uri": "https://localhost:8080/"
        },
        "id": "aYT1fQ8iWpwt",
        "outputId": "948d68ff-be6e-46ef-d945-93ff642466db"
      },
      "execution_count": 99,
      "outputs": [
        {
          "output_type": "stream",
          "name": "stdout",
          "text": [
            "('I got back in my car.', '[start] Je suis remonté dans ma voiture. [end]')\n",
            "('Do you have difficulty losing weight?', '[start] Avez-vous du mal à perdre du poids ? [end]')\n",
            "(\"Don't even say that as a joke.\", '[start] Ne le dis pas même en guise de plaisanterie ! [end]')\n",
            "(\"Do you think I don't care?\", \"[start] Pensez-vous que je m'en fiche ? [end]\")\n",
            "('Tom will be back home soon.', '[start] Tom sera bientôt de retour à la maison. [end]')\n"
          ]
        }
      ]
    },
    {
      "cell_type": "code",
      "source": [
        "random.shuffle(text_pairs)\n",
        "num_val_samples = int(0.15 * len(text_pairs))\n",
        "num_train_samples = len(text_pairs) - 2 * num_val_samples\n",
        "train_pairs = text_pairs[:num_train_samples]\n",
        "val_pairs = text_pairs[num_train_samples : num_train_samples + num_val_samples]\n",
        "test_pairs = text_pairs[num_train_samples + num_val_samples :]\n",
        "\n",
        "print(f\"{len(text_pairs)} total pairs\")\n",
        "print(f\"{len(train_pairs)} training pairs\")\n",
        "print(f\"{len(val_pairs)} validation pairs\")\n",
        "print(f\"{len(test_pairs)} test pairs\")"
      ],
      "metadata": {
        "colab": {
          "base_uri": "https://localhost:8080/"
        },
        "id": "fZSoEh2aWvd9",
        "outputId": "09ec39f5-a170-4e43-98d9-a59c7404d131"
      },
      "execution_count": 100,
      "outputs": [
        {
          "output_type": "stream",
          "name": "stdout",
          "text": [
            "197463 total pairs\n",
            "138225 training pairs\n",
            "29619 validation pairs\n",
            "29619 test pairs\n"
          ]
        }
      ]
    },
    {
      "cell_type": "code",
      "source": [
        "strip_chars = string.punctuation + \"¿\"\n",
        "strip_chars = strip_chars.replace(\"[\", \"\")\n",
        "strip_chars = strip_chars.replace(\"]\", \"\")\n",
        "\n",
        "vocab_size = 15000\n",
        "sequence_length = 20\n",
        "batch_size = 64\n",
        "\n",
        "\n",
        "def custom_standardization(input_string):\n",
        "    lowercase = tf.strings.lower(input_string)\n",
        "    return tf.strings.regex_replace(lowercase, \"[%s]\" % re.escape(strip_chars), \"\")\n",
        "\n",
        "\n",
        "eng_vectorization = TextVectorization(\n",
        "    max_tokens=vocab_size, output_mode=\"int\", output_sequence_length=sequence_length,\n",
        ")\n",
        "spa_vectorization = TextVectorization(\n",
        "    max_tokens=vocab_size,\n",
        "    output_mode=\"int\",\n",
        "    output_sequence_length=sequence_length + 1,\n",
        "    standardize=custom_standardization,\n",
        ")\n",
        "train_eng_texts = [pair[0] for pair in train_pairs]\n",
        "train_spa_texts = [pair[1] for pair in train_pairs]\n",
        "eng_vectorization.adapt(train_eng_texts)\n",
        "spa_vectorization.adapt(train_spa_texts)"
      ],
      "metadata": {
        "id": "EIEIWStfWyqv"
      },
      "execution_count": 101,
      "outputs": []
    },
    {
      "cell_type": "code",
      "source": [
        "def format_dataset(eng, spa):\n",
        "    eng = eng_vectorization(eng)\n",
        "    spa = spa_vectorization(spa)\n",
        "    return ({\"encoder_inputs\": eng, \"decoder_inputs\": spa[:, :-1],}, spa[:, 1:])\n",
        "\n",
        "\n",
        "def make_dataset(pairs):\n",
        "    eng_texts, spa_texts = zip(*pairs)\n",
        "    eng_texts = list(eng_texts)\n",
        "    spa_texts = list(spa_texts)\n",
        "    dataset = tf.data.Dataset.from_tensor_slices((eng_texts, spa_texts))\n",
        "    dataset = dataset.batch(batch_size)\n",
        "    dataset = dataset.map(format_dataset)\n",
        "    return dataset.shuffle(2048).prefetch(16).cache()\n",
        "\n",
        "\n",
        "train_ds = make_dataset(train_pairs)\n",
        "val_ds = make_dataset(val_pairs)"
      ],
      "metadata": {
        "id": "EaeKxL4UWzkZ"
      },
      "execution_count": 102,
      "outputs": []
    },
    {
      "cell_type": "code",
      "source": [
        "for inputs, targets in train_ds.take(1):\n",
        "    print(f'inputs[\"encoder_inputs\"].shape: {inputs[\"encoder_inputs\"].shape}')\n",
        "    print(f'inputs[\"decoder_inputs\"].shape: {inputs[\"decoder_inputs\"].shape}')\n",
        "    print(f\"targets.shape: {targets.shape}\")"
      ],
      "metadata": {
        "colab": {
          "base_uri": "https://localhost:8080/"
        },
        "id": "CWDz9uOWW26m",
        "outputId": "f8c87799-522d-47fc-98df-b7c1360942f1"
      },
      "execution_count": 103,
      "outputs": [
        {
          "output_type": "stream",
          "name": "stdout",
          "text": [
            "inputs[\"encoder_inputs\"].shape: (64, 20)\n",
            "inputs[\"decoder_inputs\"].shape: (64, 20)\n",
            "targets.shape: (64, 20)\n"
          ]
        }
      ]
    },
    {
      "cell_type": "code",
      "source": [
        "class TransformerEncoder(layers.Layer):\n",
        "    def __init__(self, embed_dim, dense_dim, num_heads, **kwargs):\n",
        "        super().__init__(**kwargs)\n",
        "        self.embed_dim = embed_dim\n",
        "        self.dense_dim = dense_dim\n",
        "        self.num_heads = num_heads\n",
        "        self.attention = layers.MultiHeadAttention(\n",
        "            num_heads=num_heads, key_dim=embed_dim\n",
        "        )\n",
        "        self.dense_proj = keras.Sequential(\n",
        "            [layers.Dense(dense_dim, activation=\"relu\"), layers.Dense(embed_dim),]\n",
        "        )\n",
        "        self.layernorm_1 = layers.LayerNormalization()\n",
        "        self.layernorm_2 = layers.LayerNormalization()\n",
        "        self.supports_masking = True\n",
        "\n",
        "    def call(self, inputs, mask=None):\n",
        "        if mask is not None:\n",
        "            padding_mask = tf.cast(mask[:, tf.newaxis, tf.newaxis, :], dtype=\"int32\")\n",
        "        attention_output = self.attention(\n",
        "            query=inputs, value=inputs, key=inputs, attention_mask=padding_mask\n",
        "        )\n",
        "        proj_input = self.layernorm_1(inputs + attention_output)\n",
        "        proj_output = self.dense_proj(proj_input)\n",
        "        return self.layernorm_2(proj_input + proj_output)\n",
        "\n",
        "\n",
        "class PositionalEmbedding(layers.Layer):\n",
        "    def __init__(self, sequence_length, vocab_size, embed_dim, **kwargs):\n",
        "        super().__init__(**kwargs)\n",
        "        self.token_embeddings = layers.Embedding(\n",
        "            input_dim=vocab_size, output_dim=embed_dim\n",
        "        )\n",
        "        self.position_embeddings = layers.Embedding(\n",
        "            input_dim=sequence_length, output_dim=embed_dim\n",
        "        )\n",
        "        self.sequence_length = sequence_length\n",
        "        self.vocab_size = vocab_size\n",
        "        self.embed_dim = embed_dim\n",
        "\n",
        "    def call(self, inputs):\n",
        "        length = tf.shape(inputs)[-1]\n",
        "        positions = tf.range(start=0, limit=length, delta=1)\n",
        "        embedded_tokens = self.token_embeddings(inputs)\n",
        "        embedded_positions = self.position_embeddings(positions)\n",
        "        return embedded_tokens + embedded_positions\n",
        "\n",
        "    def compute_mask(self, inputs, mask=None):\n",
        "        return tf.math.not_equal(inputs, 0)\n",
        "\n",
        "\n",
        "class TransformerDecoder(layers.Layer):\n",
        "    def __init__(self, embed_dim, latent_dim, num_heads, **kwargs):\n",
        "        super().__init__(**kwargs)\n",
        "        self.embed_dim = embed_dim\n",
        "        self.latent_dim = latent_dim\n",
        "        self.num_heads = num_heads\n",
        "        self.attention_1 = layers.MultiHeadAttention(\n",
        "            num_heads=num_heads, key_dim=embed_dim\n",
        "        )\n",
        "        self.attention_2 = layers.MultiHeadAttention(\n",
        "            num_heads=num_heads, key_dim=embed_dim\n",
        "        )\n",
        "        self.dense_proj = keras.Sequential(\n",
        "            [layers.Dense(latent_dim, activation=\"relu\"), layers.Dense(embed_dim),]\n",
        "        )\n",
        "        self.layernorm_1 = layers.LayerNormalization()\n",
        "        self.layernorm_2 = layers.LayerNormalization()\n",
        "        self.layernorm_3 = layers.LayerNormalization()\n",
        "        self.supports_masking = True\n",
        "\n",
        "    def call(self, inputs, encoder_outputs, mask=None):\n",
        "        causal_mask = self.get_causal_attention_mask(inputs)\n",
        "        if mask is not None:\n",
        "            padding_mask = tf.cast(mask[:, tf.newaxis, :], dtype=\"int32\")\n",
        "            padding_mask = tf.minimum(padding_mask, causal_mask)\n",
        "\n",
        "        attention_output_1 = self.attention_1(\n",
        "            query=inputs, value=inputs, key=inputs, attention_mask=causal_mask\n",
        "        )\n",
        "        out_1 = self.layernorm_1(inputs + attention_output_1)\n",
        "\n",
        "        attention_output_2 = self.attention_2(\n",
        "            query=out_1,\n",
        "            value=encoder_outputs,\n",
        "            key=encoder_outputs,\n",
        "            attention_mask=padding_mask,\n",
        "        )\n",
        "        out_2 = self.layernorm_2(out_1 + attention_output_2)\n",
        "\n",
        "        proj_output = self.dense_proj(out_2)\n",
        "        return self.layernorm_3(out_2 + proj_output)\n",
        "\n",
        "    def get_causal_attention_mask(self, inputs):\n",
        "        input_shape = tf.shape(inputs)\n",
        "        batch_size, sequence_length = input_shape[0], input_shape[1]\n",
        "        i = tf.range(sequence_length)[:, tf.newaxis]\n",
        "        j = tf.range(sequence_length)\n",
        "        mask = tf.cast(i >= j, dtype=\"int32\")\n",
        "        mask = tf.reshape(mask, (1, input_shape[1], input_shape[1]))\n",
        "        mult = tf.concat(\n",
        "            [tf.expand_dims(batch_size, -1), tf.constant([1, 1], dtype=tf.int32)],\n",
        "            axis=0,\n",
        "        )\n",
        "        return tf.tile(mask, mult)"
      ],
      "metadata": {
        "id": "TfWKeCb5W5_6"
      },
      "execution_count": 104,
      "outputs": []
    },
    {
      "cell_type": "code",
      "source": [
        "embed_dim = 256\n",
        "latent_dim = 2048\n",
        "num_heads = 8\n",
        "\n",
        "encoder_inputs = keras.Input(shape=(None,), dtype=\"int64\", name=\"encoder_inputs\")\n",
        "x = PositionalEmbedding(sequence_length, vocab_size, embed_dim)(encoder_inputs)\n",
        "encoder_outputs = TransformerEncoder(embed_dim, latent_dim, num_heads)(x)\n",
        "encoder = keras.Model(encoder_inputs, encoder_outputs)\n",
        "\n",
        "decoder_inputs = keras.Input(shape=(None,), dtype=\"int64\", name=\"decoder_inputs\")\n",
        "encoded_seq_inputs = keras.Input(shape=(None, embed_dim), name=\"decoder_state_inputs\")\n",
        "x = PositionalEmbedding(sequence_length, vocab_size, embed_dim)(decoder_inputs)\n",
        "x = TransformerDecoder(embed_dim, latent_dim, num_heads)(x, encoded_seq_inputs)\n",
        "x = layers.Dropout(0.5)(x)\n",
        "decoder_outputs = layers.Dense(vocab_size, activation=\"softmax\")(x)\n",
        "decoder = keras.Model([decoder_inputs, encoded_seq_inputs], decoder_outputs)\n",
        "\n",
        "decoder_outputs = decoder([decoder_inputs, encoder_outputs])\n",
        "transformer = keras.Model(\n",
        "    [encoder_inputs, decoder_inputs], decoder_outputs, name=\"transformer\"\n",
        ")"
      ],
      "metadata": {
        "id": "ZV3d0acWW9aX"
      },
      "execution_count": 105,
      "outputs": []
    },
    {
      "cell_type": "code",
      "source": [
        "epochs = 30  # This should be at least 30 for convergence\n",
        "\n",
        "transformer.summary()\n",
        "transformer.compile(\n",
        "    \"rmsprop\", loss=\"sparse_categorical_crossentropy\", metrics=[\"accuracy\"]\n",
        ")\n",
        "transformer.fit(train_ds, epochs=epochs, validation_data=val_ds)"
      ],
      "metadata": {
        "colab": {
          "base_uri": "https://localhost:8080/"
        },
        "id": "EHcGaQzIXAZP",
        "outputId": "f6609110-6160-4e19-db43-94cf59cd5c06"
      },
      "execution_count": 107,
      "outputs": [
        {
          "output_type": "stream",
          "name": "stdout",
          "text": [
            "Model: \"transformer\"\n",
            "__________________________________________________________________________________________________\n",
            " Layer (type)                   Output Shape         Param #     Connected to                     \n",
            "==================================================================================================\n",
            " encoder_inputs (InputLayer)    [(None, None)]       0           []                               \n",
            "                                                                                                  \n",
            " positional_embedding_8 (Positi  (None, None, 256)   3845120     ['encoder_inputs[0][0]']         \n",
            " onalEmbedding)                                                                                   \n",
            "                                                                                                  \n",
            " decoder_inputs (InputLayer)    [(None, None)]       0           []                               \n",
            "                                                                                                  \n",
            " transformer_encoder_4 (Transfo  (None, None, 256)   3155456     ['positional_embedding_8[0][0]'] \n",
            " rmerEncoder)                                                                                     \n",
            "                                                                                                  \n",
            " model_9 (Functional)           (None, None, 15000)  12959640    ['decoder_inputs[0][0]',         \n",
            "                                                                  'transformer_encoder_4[0][0]']  \n",
            "                                                                                                  \n",
            "==================================================================================================\n",
            "Total params: 19,960,216\n",
            "Trainable params: 19,960,216\n",
            "Non-trainable params: 0\n",
            "__________________________________________________________________________________________________\n",
            "Epoch 1/30\n",
            "2160/2160 [==============================] - 156s 70ms/step - loss: 1.5500 - accuracy: 0.4730 - val_loss: 1.2071 - val_accuracy: 0.5674\n",
            "Epoch 2/30\n",
            "2160/2160 [==============================] - 151s 70ms/step - loss: 1.1955 - accuracy: 0.5865 - val_loss: 1.0540 - val_accuracy: 0.6211\n",
            "Epoch 3/30\n",
            "2160/2160 [==============================] - 152s 70ms/step - loss: 1.0742 - accuracy: 0.6269 - val_loss: 1.0020 - val_accuracy: 0.6443\n",
            "Epoch 4/30\n",
            "2160/2160 [==============================] - 151s 70ms/step - loss: 1.0275 - accuracy: 0.6497 - val_loss: 0.9823 - val_accuracy: 0.6567\n",
            "Epoch 5/30\n",
            "2160/2160 [==============================] - 150s 70ms/step - loss: 1.0016 - accuracy: 0.6654 - val_loss: 0.9681 - val_accuracy: 0.6664\n",
            "Epoch 6/30\n",
            "2160/2160 [==============================] - 151s 70ms/step - loss: 0.9793 - accuracy: 0.6783 - val_loss: 0.9577 - val_accuracy: 0.6723\n",
            "Epoch 7/30\n",
            "2160/2160 [==============================] - 150s 70ms/step - loss: 0.9601 - accuracy: 0.6888 - val_loss: 0.9509 - val_accuracy: 0.6777\n",
            "Epoch 8/30\n",
            "2160/2160 [==============================] - 150s 69ms/step - loss: 0.9412 - accuracy: 0.6973 - val_loss: 0.9443 - val_accuracy: 0.6811\n",
            "Epoch 9/30\n",
            "2160/2160 [==============================] - 150s 69ms/step - loss: 0.9253 - accuracy: 0.7051 - val_loss: 0.9430 - val_accuracy: 0.6839\n",
            "Epoch 10/30\n",
            "2160/2160 [==============================] - 150s 70ms/step - loss: 0.9090 - accuracy: 0.7120 - val_loss: 0.9417 - val_accuracy: 0.6847\n",
            "Epoch 11/30\n",
            "2160/2160 [==============================] - 150s 70ms/step - loss: 0.8933 - accuracy: 0.7181 - val_loss: 0.9356 - val_accuracy: 0.6878\n",
            "Epoch 12/30\n",
            "2160/2160 [==============================] - 151s 70ms/step - loss: 0.8793 - accuracy: 0.7237 - val_loss: 0.9317 - val_accuracy: 0.6904\n",
            "Epoch 13/30\n",
            "2160/2160 [==============================] - 150s 70ms/step - loss: 0.8670 - accuracy: 0.7287 - val_loss: 0.9354 - val_accuracy: 0.6902\n",
            "Epoch 14/30\n",
            "2160/2160 [==============================] - 151s 70ms/step - loss: 0.8556 - accuracy: 0.7333 - val_loss: 0.9390 - val_accuracy: 0.6912\n",
            "Epoch 15/30\n",
            "2160/2160 [==============================] - 151s 70ms/step - loss: 0.8434 - accuracy: 0.7377 - val_loss: 0.9387 - val_accuracy: 0.6922\n",
            "Epoch 16/30\n",
            "2160/2160 [==============================] - 151s 70ms/step - loss: 0.8327 - accuracy: 0.7416 - val_loss: 0.9427 - val_accuracy: 0.6915\n",
            "Epoch 17/30\n",
            "2160/2160 [==============================] - 151s 70ms/step - loss: 0.8221 - accuracy: 0.7451 - val_loss: 0.9420 - val_accuracy: 0.6936\n",
            "Epoch 18/30\n",
            "2160/2160 [==============================] - 151s 70ms/step - loss: 0.8124 - accuracy: 0.7488 - val_loss: 0.9500 - val_accuracy: 0.6898\n",
            "Epoch 19/30\n",
            "2160/2160 [==============================] - 151s 70ms/step - loss: 0.8029 - accuracy: 0.7522 - val_loss: 0.9445 - val_accuracy: 0.6936\n",
            "Epoch 20/30\n",
            "2160/2160 [==============================] - 151s 70ms/step - loss: 0.7948 - accuracy: 0.7550 - val_loss: 0.9441 - val_accuracy: 0.6964\n",
            "Epoch 21/30\n",
            "2160/2160 [==============================] - 152s 71ms/step - loss: 0.7863 - accuracy: 0.7582 - val_loss: 0.9489 - val_accuracy: 0.6965\n",
            "Epoch 22/30\n",
            "2160/2160 [==============================] - 151s 70ms/step - loss: 0.7790 - accuracy: 0.7606 - val_loss: 0.9469 - val_accuracy: 0.6976\n",
            "Epoch 23/30\n",
            "2160/2160 [==============================] - 151s 70ms/step - loss: 0.7715 - accuracy: 0.7633 - val_loss: 0.9547 - val_accuracy: 0.6980\n",
            "Epoch 24/30\n",
            "2160/2160 [==============================] - 152s 70ms/step - loss: 0.7655 - accuracy: 0.7655 - val_loss: 0.9593 - val_accuracy: 0.6966\n",
            "Epoch 25/30\n",
            "2160/2160 [==============================] - 152s 70ms/step - loss: 0.7581 - accuracy: 0.7680 - val_loss: 0.9684 - val_accuracy: 0.6945\n",
            "Epoch 26/30\n",
            "2160/2160 [==============================] - 151s 70ms/step - loss: 0.7526 - accuracy: 0.7699 - val_loss: 0.9593 - val_accuracy: 0.6963\n",
            "Epoch 27/30\n",
            "2160/2160 [==============================] - 151s 70ms/step - loss: 0.7458 - accuracy: 0.7725 - val_loss: 0.9662 - val_accuracy: 0.6985\n",
            "Epoch 28/30\n",
            "2160/2160 [==============================] - 151s 70ms/step - loss: 0.7398 - accuracy: 0.7743 - val_loss: 0.9680 - val_accuracy: 0.6982\n",
            "Epoch 29/30\n",
            "2160/2160 [==============================] - 151s 70ms/step - loss: 0.7348 - accuracy: 0.7761 - val_loss: 0.9815 - val_accuracy: 0.6971\n",
            "Epoch 30/30\n",
            "2160/2160 [==============================] - 152s 70ms/step - loss: 0.7297 - accuracy: 0.7781 - val_loss: 0.9789 - val_accuracy: 0.6976\n"
          ]
        },
        {
          "output_type": "execute_result",
          "data": {
            "text/plain": [
              "<keras.callbacks.History at 0x7fadbc08f130>"
            ]
          },
          "metadata": {},
          "execution_count": 107
        }
      ]
    },
    {
      "cell_type": "code",
      "source": [
        "spa_vocab = spa_vectorization.get_vocabulary()\n",
        "spa_index_lookup = dict(zip(range(len(spa_vocab)), spa_vocab))\n",
        "max_decoded_sentence_length = 20\n",
        "\n",
        "\n",
        "def decode_sequence(input_sentence):\n",
        "    tokenized_input_sentence = eng_vectorization([input_sentence])\n",
        "    decoded_sentence = \"[start]\"\n",
        "    for i in range(max_decoded_sentence_length):\n",
        "        tokenized_target_sentence = spa_vectorization([decoded_sentence])[:, :-1]\n",
        "        predictions = transformer([tokenized_input_sentence, tokenized_target_sentence])\n",
        "\n",
        "        sampled_token_index = np.argmax(predictions[0, i, :])\n",
        "        sampled_token = spa_index_lookup[sampled_token_index]\n",
        "        decoded_sentence += \" \" + sampled_token\n",
        "\n",
        "        if sampled_token == \"[end]\":\n",
        "            break\n",
        "    return decoded_sentence\n",
        "\n",
        "\n",
        "test_eng_texts = [pair[0] for pair in test_pairs]\n",
        "for _ in range(30):\n",
        "    input_sentence = random.choice(test_eng_texts)\n",
        "    translated = decode_sequence(input_sentence)\n",
        "    print(input_sentence)\n",
        "    print(translated)\n",
        "    print('\\n')"
      ],
      "metadata": {
        "colab": {
          "base_uri": "https://localhost:8080/"
        },
        "id": "0f36bqsBXDuW",
        "outputId": "1d4836e0-3e57-41b6-ddb7-51368b4d940b"
      },
      "execution_count": 108,
      "outputs": [
        {
          "output_type": "stream",
          "name": "stdout",
          "text": [
            "You must work hard if you want to succeed.\n",
            "[start] tu dois travailler dur si tu veux réussir [end]\n",
            "\n",
            "\n",
            "Tom is just slightly taller than Mary.\n",
            "[start] tom est tout juste plus grand que mary [end]\n",
            "\n",
            "\n",
            "I don't like your boss.\n",
            "[start] je ne te aime pas ton patron [end]\n",
            "\n",
            "\n",
            "Time cures all things.\n",
            "[start] les choses à la manière de [UNK] tous les choses [end]\n",
            "\n",
            "\n",
            "Tom knows where the others are, I think.\n",
            "[start] tom sait où sont les autres je pense [end]\n",
            "\n",
            "\n",
            "Many people were embroiled in the scandal.\n",
            "[start] beaucoup de gens [UNK] dans le [UNK] [UNK] [end]\n",
            "\n",
            "\n",
            "It's too early to know.\n",
            "[start] il est trop tôt pour savoir [end]\n",
            "\n",
            "\n",
            "Nobody has a landline these days.\n",
            "[start] personne na un [UNK] ces jours [end]\n",
            "\n",
            "\n",
            "I hope we can avoid that.\n",
            "[start] jespère que nous pouvons le faire [end]\n",
            "\n",
            "\n",
            "I'm not pretty.\n",
            "[start] je ne suis pas belle [end]\n",
            "\n",
            "\n",
            "The dog is starving.\n",
            "[start] le chien est mort de faim [end]\n",
            "\n",
            "\n",
            "I left the room.\n",
            "[start] jai gauche dans la pièce [end]\n",
            "\n",
            "\n",
            "Your nose is bleeding.\n",
            "[start] tu [UNK] du nez [end]\n",
            "\n",
            "\n",
            "I persuaded him into accepting the offer.\n",
            "[start] je lai convaincu [end]\n",
            "\n",
            "\n",
            "My grandkids live in Boston.\n",
            "[start] mon [UNK] à boston [end]\n",
            "\n",
            "\n",
            "I was horrified.\n",
            "[start] je fut [UNK] [end]\n",
            "\n",
            "\n",
            "You probably won't be able to do that.\n",
            "[start] tu ne seras probablement pas capable de faire ça [end]\n",
            "\n",
            "\n",
            "You may swim.\n",
            "[start] tu peux nager [end]\n",
            "\n",
            "\n",
            "Don't you think it went great?\n",
            "[start] ne la pensez pas que ça [UNK] [end]\n",
            "\n",
            "\n",
            "Let's have another drink.\n",
            "[start] [UNK] un autre verre [end]\n",
            "\n",
            "\n",
            "I took it for granted that you were on our side.\n",
            "[start] jétais vous en a pensé que vous étiez sur le bout de nous [end]\n",
            "\n",
            "\n",
            "They fought for freedom.\n",
            "[start] ils [UNK] la machine [end]\n",
            "\n",
            "\n",
            "I was about to leave when you telephoned.\n",
            "[start] jétais sur le point de partir quand tu as appelé [end]\n",
            "\n",
            "\n",
            "I've had enough.\n",
            "[start] jen ai assez à fait [end]\n",
            "\n",
            "\n",
            "Why don't I drive you?\n",
            "[start] pourquoi ne vous [UNK] pas [end]\n",
            "\n",
            "\n",
            "Sorry, I didn't hear you.\n",
            "[start] désolé je ne vous ai pas entendu [end]\n",
            "\n",
            "\n",
            "Tom doesn't sound scared.\n",
            "[start] tom na pas lair tout peur [end]\n",
            "\n",
            "\n",
            "I even work on Sundays.\n",
            "[start] je même travaille le dimanche [end]\n",
            "\n",
            "\n",
            "I trust we understand each other.\n",
            "[start] je me fais confiance en nous [UNK] [end]\n",
            "\n",
            "\n",
            "Let me give you a little tip.\n",
            "[start] laissezmoi vous donner une petite vous laissez un petit [end]\n",
            "\n",
            "\n"
          ]
        }
      ]
    },
    {
      "cell_type": "code",
      "source": [
        "\n"
      ],
      "metadata": {
        "id": "WD5ivNkgYxkh"
      },
      "execution_count": null,
      "outputs": []
    },
    {
      "cell_type": "code",
      "source": [],
      "metadata": {
        "id": "sZrqyMTqYRPw"
      },
      "execution_count": 13,
      "outputs": []
    }
  ]
}